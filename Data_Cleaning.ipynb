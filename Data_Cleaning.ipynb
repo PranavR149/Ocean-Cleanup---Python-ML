{
 "cells": [
  {
   "cell_type": "code",
   "execution_count": 1,
   "id": "516b01a4",
   "metadata": {},
   "outputs": [],
   "source": [
    "import pandas as pd\n",
    "import numpy as np\n",
    "from datetime import datetime\n",
    "import warnings\n",
    "warnings.filterwarnings('ignore')\n"
   ]
  },
  {
   "cell_type": "code",
   "execution_count": 2,
   "id": "4b370c0e",
   "metadata": {},
   "outputs": [],
   "source": [
    "# Loading the dataset (using the downloaded file)\n",
    "ocean = pd.read_csv(\"Data_OceanCleanup.csv\")"
   ]
  },
  {
   "cell_type": "code",
   "execution_count": 3,
   "id": "7119da8c",
   "metadata": {},
   "outputs": [
    {
     "data": {
      "text/html": [
       "<div>\n",
       "<style scoped>\n",
       "    .dataframe tbody tr th:only-of-type {\n",
       "        vertical-align: middle;\n",
       "    }\n",
       "\n",
       "    .dataframe tbody tr th {\n",
       "        vertical-align: top;\n",
       "    }\n",
       "\n",
       "    .dataframe thead th {\n",
       "        text-align: right;\n",
       "    }\n",
       "</style>\n",
       "<table border=\"1\" class=\"dataframe\">\n",
       "  <thead>\n",
       "    <tr style=\"text-align: right;\">\n",
       "      <th></th>\n",
       "      <th>Cleanup ID</th>\n",
       "      <th>Zone</th>\n",
       "      <th>State</th>\n",
       "      <th>Country</th>\n",
       "      <th>GPS</th>\n",
       "      <th>Cleanup Type</th>\n",
       "      <th>Cleanup Date</th>\n",
       "      <th>Group Name</th>\n",
       "      <th>Adults</th>\n",
       "      <th>Children</th>\n",
       "      <th>...</th>\n",
       "      <th>Syringes</th>\n",
       "      <th>Tampons/Tampon Applicators</th>\n",
       "      <th>Personal Hygiene (Clean Swell)</th>\n",
       "      <th>Foam Pieces</th>\n",
       "      <th>Glass Pieces</th>\n",
       "      <th>Plastic Pieces</th>\n",
       "      <th>Total Items Collected</th>\n",
       "      <th>Trash level</th>\n",
       "      <th>Immediate Cleanup Required?</th>\n",
       "      <th>Immediate Cleanup Required</th>\n",
       "    </tr>\n",
       "  </thead>\n",
       "  <tbody>\n",
       "    <tr>\n",
       "      <th>0</th>\n",
       "      <td>86</td>\n",
       "      <td>Cuyahoga County, OH, USA</td>\n",
       "      <td>Ohio, USA</td>\n",
       "      <td>United States</td>\n",
       "      <td>41.49742, -81.56505</td>\n",
       "      <td>Land (beach, shoreline and inland)</td>\n",
       "      <td>12/22/14</td>\n",
       "      <td>NaN</td>\n",
       "      <td>1.0</td>\n",
       "      <td>0.0</td>\n",
       "      <td>...</td>\n",
       "      <td>0</td>\n",
       "      <td>0</td>\n",
       "      <td>0</td>\n",
       "      <td>0</td>\n",
       "      <td>0</td>\n",
       "      <td>0</td>\n",
       "      <td>3.0</td>\n",
       "      <td>Low</td>\n",
       "      <td>NaN</td>\n",
       "      <td>No</td>\n",
       "    </tr>\n",
       "    <tr>\n",
       "      <th>1</th>\n",
       "      <td>87</td>\n",
       "      <td>Fairfax County, VA, USA</td>\n",
       "      <td>Virginia, USA</td>\n",
       "      <td>United States</td>\n",
       "      <td>38.87456, -77.24428</td>\n",
       "      <td>Land (beach, shoreline and inland)</td>\n",
       "      <td>12/24/14</td>\n",
       "      <td>NaN</td>\n",
       "      <td>1.0</td>\n",
       "      <td>0.0</td>\n",
       "      <td>...</td>\n",
       "      <td>0</td>\n",
       "      <td>0</td>\n",
       "      <td>0</td>\n",
       "      <td>0</td>\n",
       "      <td>0</td>\n",
       "      <td>2</td>\n",
       "      <td>10.0</td>\n",
       "      <td>Low</td>\n",
       "      <td>NaN</td>\n",
       "      <td>No</td>\n",
       "    </tr>\n",
       "    <tr>\n",
       "      <th>2</th>\n",
       "      <td>92</td>\n",
       "      <td>Washington, DC, USA</td>\n",
       "      <td>District of Columbia, USA</td>\n",
       "      <td>United States</td>\n",
       "      <td>38.90733, -77.04405</td>\n",
       "      <td>Land (beach, shoreline and inland)</td>\n",
       "      <td>2/19/15</td>\n",
       "      <td>NaN</td>\n",
       "      <td>1.0</td>\n",
       "      <td>0.0</td>\n",
       "      <td>...</td>\n",
       "      <td>0</td>\n",
       "      <td>0</td>\n",
       "      <td>0</td>\n",
       "      <td>0</td>\n",
       "      <td>0</td>\n",
       "      <td>0</td>\n",
       "      <td>4.0</td>\n",
       "      <td>Low</td>\n",
       "      <td>NaN</td>\n",
       "      <td>No</td>\n",
       "    </tr>\n",
       "    <tr>\n",
       "      <th>3</th>\n",
       "      <td>93</td>\n",
       "      <td>Washington, DC, USA</td>\n",
       "      <td>District of Columbia, USA</td>\n",
       "      <td>United States</td>\n",
       "      <td>38.90733, -77.0441</td>\n",
       "      <td>Land (beach, shoreline and inland)</td>\n",
       "      <td>2/19/15</td>\n",
       "      <td>NaN</td>\n",
       "      <td>1.0</td>\n",
       "      <td>0.0</td>\n",
       "      <td>...</td>\n",
       "      <td>0</td>\n",
       "      <td>0</td>\n",
       "      <td>0</td>\n",
       "      <td>0</td>\n",
       "      <td>0</td>\n",
       "      <td>0</td>\n",
       "      <td>14.0</td>\n",
       "      <td>Low</td>\n",
       "      <td>NaN</td>\n",
       "      <td>No</td>\n",
       "    </tr>\n",
       "    <tr>\n",
       "      <th>4</th>\n",
       "      <td>94</td>\n",
       "      <td>Washington, DC, USA</td>\n",
       "      <td>District of Columbia, USA</td>\n",
       "      <td>United States</td>\n",
       "      <td>38.90733, -77.0441</td>\n",
       "      <td>Land (beach, shoreline and inland)</td>\n",
       "      <td>2/19/15</td>\n",
       "      <td>NaN</td>\n",
       "      <td>1.0</td>\n",
       "      <td>0.0</td>\n",
       "      <td>...</td>\n",
       "      <td>0</td>\n",
       "      <td>0</td>\n",
       "      <td>0</td>\n",
       "      <td>0</td>\n",
       "      <td>0</td>\n",
       "      <td>0</td>\n",
       "      <td>14.0</td>\n",
       "      <td>Low</td>\n",
       "      <td>NaN</td>\n",
       "      <td>No</td>\n",
       "    </tr>\n",
       "  </tbody>\n",
       "</table>\n",
       "<p>5 rows × 64 columns</p>\n",
       "</div>"
      ],
      "text/plain": [
       "  Cleanup ID                      Zone                      State  \\\n",
       "0         86  Cuyahoga County, OH, USA                  Ohio, USA   \n",
       "1         87   Fairfax County, VA, USA              Virginia, USA   \n",
       "2         92       Washington, DC, USA  District of Columbia, USA   \n",
       "3         93       Washington, DC, USA  District of Columbia, USA   \n",
       "4         94       Washington, DC, USA  District of Columbia, USA   \n",
       "\n",
       "         Country                  GPS                        Cleanup Type  \\\n",
       "0  United States  41.49742, -81.56505  Land (beach, shoreline and inland)   \n",
       "1  United States  38.87456, -77.24428  Land (beach, shoreline and inland)   \n",
       "2  United States  38.90733, -77.04405  Land (beach, shoreline and inland)   \n",
       "3  United States   38.90733, -77.0441  Land (beach, shoreline and inland)   \n",
       "4  United States   38.90733, -77.0441  Land (beach, shoreline and inland)   \n",
       "\n",
       "  Cleanup Date Group Name  Adults  Children  ...  Syringes  \\\n",
       "0     12/22/14        NaN     1.0       0.0  ...         0   \n",
       "1     12/24/14        NaN     1.0       0.0  ...         0   \n",
       "2      2/19/15        NaN     1.0       0.0  ...         0   \n",
       "3      2/19/15        NaN     1.0       0.0  ...         0   \n",
       "4      2/19/15        NaN     1.0       0.0  ...         0   \n",
       "\n",
       "   Tampons/Tampon Applicators  Personal Hygiene (Clean Swell)  Foam Pieces  \\\n",
       "0                           0                               0            0   \n",
       "1                           0                               0            0   \n",
       "2                           0                               0            0   \n",
       "3                           0                               0            0   \n",
       "4                           0                               0            0   \n",
       "\n",
       "   Glass Pieces  Plastic Pieces  Total Items Collected  Trash level  \\\n",
       "0             0               0                    3.0          Low   \n",
       "1             0               2                   10.0          Low   \n",
       "2             0               0                    4.0          Low   \n",
       "3             0               0                   14.0          Low   \n",
       "4             0               0                   14.0          Low   \n",
       "\n",
       "   Immediate Cleanup Required?  Immediate Cleanup Required  \n",
       "0                          NaN                          No  \n",
       "1                          NaN                          No  \n",
       "2                          NaN                          No  \n",
       "3                          NaN                          No  \n",
       "4                          NaN                          No  \n",
       "\n",
       "[5 rows x 64 columns]"
      ]
     },
     "execution_count": 3,
     "metadata": {},
     "output_type": "execute_result"
    }
   ],
   "source": [
    "# Displaying the initial 5 records, to check whether the data has \"NaN\" values\n",
    "ocean.head()"
   ]
  },
  {
   "cell_type": "code",
   "execution_count": 4,
   "id": "f783d3c4",
   "metadata": {},
   "outputs": [
    {
     "name": "stdout",
     "output_type": "stream",
     "text": [
      "<class 'pandas.core.frame.DataFrame'>\n",
      "RangeIndex: 37904 entries, 0 to 37903\n",
      "Data columns (total 64 columns):\n",
      " #   Column                                     Non-Null Count  Dtype  \n",
      "---  ------                                     --------------  -----  \n",
      " 0   Cleanup ID                                 37904 non-null  object \n",
      " 1   Zone                                       37665 non-null  object \n",
      " 2   State                                      37577 non-null  object \n",
      " 3   Country                                    37903 non-null  object \n",
      " 4   GPS                                        37903 non-null  object \n",
      " 5   Cleanup Type                               37903 non-null  object \n",
      " 6   Cleanup Date                               37903 non-null  object \n",
      " 7   Group Name                                 26636 non-null  object \n",
      " 8   Adults                                     37903 non-null  float64\n",
      " 9   Children                                   37903 non-null  float64\n",
      " 10  People                                     37903 non-null  float64\n",
      " 11  Pounds                                     37903 non-null  float64\n",
      " 12  Miles                                      37903 non-null  float64\n",
      " 13  # of bags                                  37903 non-null  float64\n",
      " 14  Cigarette Butts                            37904 non-null  int64  \n",
      " 15  Food Wrappers (candy, chips, etc.)         37904 non-null  int64  \n",
      " 16  Take Out/Away Containers (Plastic)         37904 non-null  int64  \n",
      " 17  Take Out/Away Containers (Foam)            37904 non-null  int64  \n",
      " 18  Bottle Caps (Plastic)                      37904 non-null  int64  \n",
      " 19  Bottle Caps (Metal)                        37904 non-null  int64  \n",
      " 20  Lids (Plastic)                             37904 non-null  int64  \n",
      " 21  Straws, Stirrers                           37904 non-null  int64  \n",
      " 22  Forks, Knives, Spoons                      37904 non-null  int64  \n",
      " 23  Beverage Bottles (Plastic)                 37904 non-null  int64  \n",
      " 24  Beverage Bottles (Glass)                   37904 non-null  int64  \n",
      " 25  Beverage Cans                              37904 non-null  int64  \n",
      " 26  Grocery Bags (Plastic)                     37904 non-null  int64  \n",
      " 27  Other Plastic Bags                         37904 non-null  int64  \n",
      " 28  Paper Bags                                 37904 non-null  int64  \n",
      " 29  Cups, Plates (Paper)                       37904 non-null  int64  \n",
      " 30  Cups, Plates (Plastic)                     37904 non-null  int64  \n",
      " 31  Cups, Plates (Foam)                        37904 non-null  int64  \n",
      " 32  Fishing Buoys, Pots & Traps                37904 non-null  int64  \n",
      " 33  Fishing Net & Pieces                       37904 non-null  int64  \n",
      " 34  Fishing Line (1 yard/meter = 1 piece)      37904 non-null  int64  \n",
      " 35  Rope (1 yard/meter = 1 piece)              37904 non-null  int64  \n",
      " 36  Fishing Gear (Clean Swell)                 37904 non-null  int64  \n",
      " 37  6-Pack Holders                             37904 non-null  int64  \n",
      " 38  Other Plastic/Foam Packaging               37904 non-null  int64  \n",
      " 39  Other Plastic Bottles (oil, bleach, etc.)  37904 non-null  int64  \n",
      " 40  Strapping Bands                            37904 non-null  int64  \n",
      " 41  Tobacco Packaging/Wrap                     37904 non-null  int64  \n",
      " 42  Other Packaging (Clean Swell)              37904 non-null  int64  \n",
      " 43  Appliances (refrigerators, washers, etc.)  37904 non-null  int64  \n",
      " 44  Balloons                                   37904 non-null  int64  \n",
      " 45  Cigar Tips                                 37904 non-null  int64  \n",
      " 46  Cigarette Lighters                         37904 non-null  int64  \n",
      " 47  Construction Materials                     37904 non-null  int64  \n",
      " 48  Fireworks                                  37904 non-null  int64  \n",
      " 49  Tires                                      37904 non-null  int64  \n",
      " 50  Toys                                       37904 non-null  int64  \n",
      " 51  Other Trash (Clean Swell)                  37904 non-null  int64  \n",
      " 52  Condoms                                    37904 non-null  int64  \n",
      " 53  Diapers                                    37904 non-null  int64  \n",
      " 54  Syringes                                   37904 non-null  int64  \n",
      " 55  Tampons/Tampon Applicators                 37904 non-null  int64  \n",
      " 56  Personal Hygiene (Clean Swell)             37904 non-null  int64  \n",
      " 57  Foam Pieces                                37904 non-null  int64  \n",
      " 58  Glass Pieces                               37904 non-null  int64  \n",
      " 59  Plastic Pieces                             37904 non-null  int64  \n",
      " 60  Total Items Collected                      37903 non-null  float64\n",
      " 61  Trash level                                37904 non-null  object \n",
      " 62  Immediate Cleanup Required?                0 non-null      float64\n",
      " 63  Immediate Cleanup Required                 37904 non-null  object \n",
      "dtypes: float64(8), int64(46), object(10)\n",
      "memory usage: 18.5+ MB\n"
     ]
    }
   ],
   "source": [
    "ocean.info()"
   ]
  },
  {
   "cell_type": "markdown",
   "id": "a3e7dc88",
   "metadata": {},
   "source": [
    "### Data Cleaning"
   ]
  },
  {
   "cell_type": "code",
   "execution_count": 5,
   "id": "cd6cb90f",
   "metadata": {},
   "outputs": [
    {
     "name": "stdout",
     "output_type": "stream",
     "text": [
      "Blanks in 'Cleanup ID': 0\n",
      "Blanks in 'Zone': 0\n",
      "Blanks in 'State': 0\n",
      "Blanks in 'Country': 0\n",
      "Blanks in 'GPS': 0\n",
      "Blanks in 'Cleanup Type': 0\n",
      "Blanks in 'Cleanup Date': 0\n",
      "Blanks in 'Group Name': 26\n",
      "Blanks in 'Adults': 0\n",
      "Blanks in 'Children': 0\n",
      "Blanks in 'People': 0\n",
      "Blanks in 'Pounds': 0\n",
      "Blanks in 'Miles': 0\n",
      "Blanks in '# of bags': 0\n",
      "Blanks in 'Cigarette Butts': 0\n",
      "Blanks in 'Food Wrappers (candy, chips, etc.)': 0\n",
      "Blanks in 'Take Out/Away Containers (Plastic)': 0\n",
      "Blanks in 'Take Out/Away Containers (Foam)': 0\n",
      "Blanks in 'Bottle Caps (Plastic)': 0\n",
      "Blanks in 'Bottle Caps (Metal)': 0\n",
      "Blanks in 'Lids (Plastic)': 0\n",
      "Blanks in 'Straws, Stirrers': 0\n",
      "Blanks in 'Forks, Knives, Spoons': 0\n",
      "Blanks in 'Beverage Bottles (Plastic)': 0\n",
      "Blanks in 'Beverage Bottles (Glass)': 0\n",
      "Blanks in 'Beverage Cans': 0\n",
      "Blanks in 'Grocery Bags (Plastic)': 0\n",
      "Blanks in 'Other Plastic Bags': 0\n",
      "Blanks in 'Paper Bags': 0\n",
      "Blanks in 'Cups, Plates (Paper)': 0\n",
      "Blanks in 'Cups, Plates (Plastic)': 0\n",
      "Blanks in 'Cups, Plates (Foam)': 0\n",
      "Blanks in 'Fishing Buoys, Pots & Traps': 0\n",
      "Blanks in 'Fishing Net & Pieces': 0\n",
      "Blanks in 'Fishing Line (1 yard/meter = 1 piece)': 0\n",
      "Blanks in 'Rope (1 yard/meter = 1 piece)': 0\n",
      "Blanks in 'Fishing Gear (Clean Swell)': 0\n",
      "Blanks in '6-Pack Holders': 0\n",
      "Blanks in 'Other Plastic/Foam Packaging': 0\n",
      "Blanks in 'Other Plastic Bottles (oil, bleach, etc.)': 0\n",
      "Blanks in 'Strapping Bands': 0\n",
      "Blanks in 'Tobacco Packaging/Wrap': 0\n",
      "Blanks in 'Other Packaging (Clean Swell)': 0\n",
      "Blanks in 'Appliances (refrigerators, washers, etc.)': 0\n",
      "Blanks in 'Balloons': 0\n",
      "Blanks in 'Cigar Tips': 0\n",
      "Blanks in 'Cigarette Lighters': 0\n",
      "Blanks in 'Construction Materials': 0\n",
      "Blanks in 'Fireworks': 0\n",
      "Blanks in 'Tires': 0\n",
      "Blanks in 'Toys': 0\n",
      "Blanks in 'Other Trash (Clean Swell)': 0\n",
      "Blanks in 'Condoms': 0\n",
      "Blanks in 'Diapers': 0\n",
      "Blanks in 'Syringes': 0\n",
      "Blanks in 'Tampons/Tampon Applicators': 0\n",
      "Blanks in 'Personal Hygiene (Clean Swell)': 0\n",
      "Blanks in 'Foam Pieces': 0\n",
      "Blanks in 'Glass Pieces': 0\n",
      "Blanks in 'Plastic Pieces': 0\n",
      "Blanks in 'Total Items Collected': 0\n",
      "Blanks in 'Trash level': 0\n",
      "Blanks in 'Immediate Cleanup Required?': 0\n",
      "Blanks in 'Immediate Cleanup Required': 0\n"
     ]
    }
   ],
   "source": [
    "# Checking for blanks (empty strings) in all columns\n",
    "for column in ocean.columns:\n",
    "    blank_values = ocean[column].apply(lambda x: str(x).strip() == '').sum()\n",
    "    print(f\"Blanks in '{column}': {blank_values}\")"
   ]
  },
  {
   "cell_type": "markdown",
   "id": "c88c3972",
   "metadata": {},
   "source": [
    "___"
   ]
  },
  {
   "cell_type": "markdown",
   "id": "1e9020e9",
   "metadata": {},
   "source": [
    "### 1. \"Cleanup Type\" column: Removing the 'blank' value in \"Cleanup Type\" (there is only 1 blank row showing the vertical count of values)"
   ]
  },
  {
   "cell_type": "code",
   "execution_count": 6,
   "id": "77a9a3b9",
   "metadata": {},
   "outputs": [],
   "source": [
    "ocean = ocean.dropna(subset=['Cleanup Type'])"
   ]
  },
  {
   "cell_type": "markdown",
   "id": "248cd2e4",
   "metadata": {},
   "source": [
    "___"
   ]
  },
  {
   "cell_type": "markdown",
   "id": "567bcbbe",
   "metadata": {},
   "source": [
    "### 2. \"Cleanup Date\" column: Deleting the record which has date \"0218-04-20\" as it will cause issue during our analysis & further cleanup"
   ]
  },
  {
   "cell_type": "code",
   "execution_count": 7,
   "id": "54ff394c",
   "metadata": {},
   "outputs": [],
   "source": [
    "# Defining the date to be deleted\n",
    "date_to_delete = \"0218-04-20\"\n",
    "\n",
    "# Using the boolean indexing to filter out the record with the specified date\n",
    "ocean = ocean[ocean['Cleanup Date'] != date_to_delete]"
   ]
  },
  {
   "cell_type": "markdown",
   "id": "83de9b66",
   "metadata": {},
   "source": [
    "___"
   ]
  },
  {
   "cell_type": "markdown",
   "id": "cb2160e5",
   "metadata": {},
   "source": [
    "### 3. \"Group Name\" column: Adding a prefix \"Group_\" to the existing Group Names"
   ]
  },
  {
   "cell_type": "code",
   "execution_count": 8,
   "id": "348c00e2",
   "metadata": {},
   "outputs": [],
   "source": [
    "# Defining a function to add the \"Group_\" prefix and handle blank values\n",
    "def add_grp_prefix(row):\n",
    "    if pd.isna(row['Group Name']) or row['Group Name'] == ' ' or row['Group Name'] == '    ':\n",
    "        return f'Group_{row[\"Cleanup Date\"]}'\n",
    "    else:\n",
    "        return f'Group_{row[\"Group Name\"]}'"
   ]
  },
  {
   "cell_type": "code",
   "execution_count": 9,
   "id": "cb30da2d",
   "metadata": {},
   "outputs": [],
   "source": [
    "# Applying the function to the \"Group Name\" column\n",
    "ocean['Group Name'] = ocean.apply(add_grp_prefix, axis=1)"
   ]
  },
  {
   "cell_type": "markdown",
   "id": "0c638422",
   "metadata": {},
   "source": [
    "### 4. \"Zone\" column: Removing the additional values (state name and country name after zone name)"
   ]
  },
  {
   "cell_type": "code",
   "execution_count": 10,
   "id": "5e89cb98",
   "metadata": {},
   "outputs": [],
   "source": [
    "# Splitting the \"Zone\" column by ','\n",
    "ocean['Zone'] = ocean['Zone'].str.split(',').str[0]"
   ]
  },
  {
   "cell_type": "markdown",
   "id": "f8cc390b",
   "metadata": {},
   "source": [
    "___\n"
   ]
  },
  {
   "cell_type": "markdown",
   "id": "bb24b359",
   "metadata": {},
   "source": [
    "### 5. \"Country\" column: Removing the additional value (country name after state name)"
   ]
  },
  {
   "cell_type": "code",
   "execution_count": 11,
   "id": "3af2556a",
   "metadata": {},
   "outputs": [],
   "source": [
    "# Splitting the \"State\" column by ','\n",
    "ocean['State'] = ocean['State'].str.split(',').str[0]"
   ]
  },
  {
   "cell_type": "markdown",
   "id": "ad7ff645",
   "metadata": {},
   "source": [
    "### 6. Replacing null valuesin  Zone  based on State "
   ]
  },
  {
   "cell_type": "code",
   "execution_count": 12,
   "id": "45fe46f9",
   "metadata": {},
   "outputs": [],
   "source": [
    "def standardize_zone_name(zone):\n",
    "    if pd.isnull(zone):\n",
    "        return zone  # Return NaN as it is\n",
    "    zone = zone.strip()  # Remove any leading/trailing whitespace\n",
    "    if \"County\" not in zone:\n",
    "        zone += \" County\"  # Append \"County\" if it's not already there\n",
    "    return zone\n",
    "\n",
    "# Apply the function to the 'Zone' column\n",
    "ocean['Zone'] = ocean['Zone'].apply(standardize_zone_name)\n",
    "\n",
    "\n"
   ]
  },
  {
   "cell_type": "code",
   "execution_count": 13,
   "id": "aa2b4571",
   "metadata": {},
   "outputs": [],
   "source": [
    "# Create a mapping from Zone to State based on the most common State for each Zone\n",
    "state_mapping = ocean.groupby('Zone')['State'].agg(pd.Series.mode).to_dict()\n",
    "\n",
    "# Function to apply the mapping\n",
    "def fill_missing_state(row):\n",
    "    if pd.isna(row['State']) and row['Zone'] in state_mapping:\n",
    "        return state_mapping[row['Zone']]\n",
    "    else:\n",
    "        return row['State']\n",
    "\n",
    "# Apply the function\n",
    "ocean['State'] = ocean.apply(fill_missing_state, axis=1)\n",
    "\n",
    "\n"
   ]
  },
  {
   "cell_type": "markdown",
   "id": "e5041aaf",
   "metadata": {},
   "source": [
    "### 7. Stadardizing the State and zone data"
   ]
  },
  {
   "cell_type": "code",
   "execution_count": 14,
   "id": "e94f047b",
   "metadata": {},
   "outputs": [],
   "source": [
    "# Create a mapping from GPS to State and Zone\n",
    "gps_state_mapping = ocean.dropna(subset=['State']).set_index('GPS')['State'].to_dict()\n",
    "gps_zone_mapping = ocean.dropna(subset=['Zone']).set_index('GPS')['Zone'].to_dict()\n",
    "\n",
    "# Function to apply the mappings to fill missing values\n",
    "def fill_missing_by_gps(row, gps_mapping):\n",
    "    if pd.isna(row['State']) and row['GPS'] in gps_mapping:\n",
    "        return gps_mapping[row['GPS']]\n",
    "    else:\n",
    "        return row['State']\n",
    "\n",
    "def fill_missing_zone_by_gps(row, gps_mapping):\n",
    "    if pd.isna(row['Zone']) and row['GPS'] in gps_mapping:\n",
    "        return gps_mapping[row['GPS']]\n",
    "    else:\n",
    "        return row['Zone']\n",
    "\n",
    "# Apply the function\n",
    "ocean['State'] = ocean.apply(fill_missing_by_gps, axis=1, gps_mapping=gps_state_mapping)\n",
    "ocean['Zone'] = ocean.apply(fill_missing_zone_by_gps, axis=1, gps_mapping=gps_zone_mapping)\n",
    "\n",
    "\n"
   ]
  },
  {
   "cell_type": "markdown",
   "id": "dce4adb7",
   "metadata": {},
   "source": [
    "### 8. Replaced state and zone based on GPS location"
   ]
  },
  {
   "cell_type": "code",
   "execution_count": 15,
   "id": "09809bd1",
   "metadata": {},
   "outputs": [],
   "source": [
    "# Assuming GPS coordinates are in the format 'latitude longitude' as strings\n",
    "# We will split them and round each to a precision that still ensures uniqueness in your dataset\n",
    "# Here we use 2 decimal places as an example. You may adjust the precision as needed.\n",
    "\n",
    "# Function to round the GPS coordinates\n",
    "def round_gps(gps, decimals=2):\n",
    "    if pd.isna(gps) or isinstance(gps, float):\n",
    "        return None  # Return None for NaN or non-string values\n",
    "    try:\n",
    "        lat, lon = map(str.strip, gps.split(' '))\n",
    "        lat, lon = round(float(lat), decimals), round(float(lon), decimals)\n",
    "        return f\"{lat} {lon}\"\n",
    "    except ValueError:  # In case there's any error in conversion\n",
    "        return None\n",
    "\n",
    "# Apply the rounding function to the GPS column\n",
    "ocean['Rounded_GPS'] = ocean['GPS'].apply(round_gps)\n",
    "\n",
    "# Create mappings of rounded GPS to 'State' and 'Zone'\n",
    "gps_state_mapping = ocean.dropna(subset=['State']).set_index('Rounded_GPS')['State'].to_dict()\n",
    "gps_zone_mapping = ocean.dropna(subset=['Zone']).set_index('Rounded_GPS')['Zone'].to_dict()\n",
    "\n",
    "# Function to apply the mappings to fill missing values\n",
    "def fill_missing_by_rounded_gps(row, gps_mapping):\n",
    "    if pd.isna(row['State']) and row['Rounded_GPS'] in gps_mapping:\n",
    "        return gps_mapping[row['Rounded_GPS']]\n",
    "    else:\n",
    "        return row['State']\n",
    "\n",
    "def fill_missing_zone_by_rounded_gps(row, gps_mapping):\n",
    "    if pd.isna(row['Zone']) and row['Rounded_GPS'] in gps_mapping:\n",
    "        return gps_mapping[row['Rounded_GPS']]\n",
    "    else:\n",
    "        return row['Zone']\n",
    "\n",
    "# Apply the function to fill missing 'State' and 'Zone' values\n",
    "ocean['State'] = ocean.apply(fill_missing_by_rounded_gps, axis=1, gps_mapping=gps_state_mapping)\n",
    "ocean['Zone'] = ocean.apply(fill_missing_zone_by_rounded_gps, axis=1, gps_mapping=gps_zone_mapping)\n",
    "\n",
    "# Drop the Rounded_GPS column if not needed\n",
    "ocean.drop(columns=['Rounded_GPS'], inplace=True)"
   ]
  },
  {
   "cell_type": "markdown",
   "id": "7566a174",
   "metadata": {},
   "source": [
    "### 9. Dividing Longitude and Latitude columns separately from GPS "
   ]
  },
  {
   "cell_type": "code",
   "execution_count": 16,
   "id": "1558ddf3",
   "metadata": {},
   "outputs": [],
   "source": [
    "# Assuming 'ocean' is your DataFrame after label encoding other categorical columns\n",
    "\n",
    "# Split the GPS column into two new columns 'Latitude' and 'Longitude'\n",
    "ocean[['Latitude', 'Longitude']] = ocean['GPS'].str.split(',', expand=True)\n",
    "\n",
    "# Convert the new columns to numeric data type\n",
    "ocean['Latitude'] = pd.to_numeric(ocean['Latitude'])\n",
    "ocean['Longitude'] = pd.to_numeric(ocean['Longitude'])\n",
    "\n",
    "# Optionally, round the latitude and longitude to a desired level of precision\n",
    "ocean['Latitude'] = ocean['Latitude'].round(6)  # Adjust the number of decimal places as needed\n",
    "ocean['Longitude'] = ocean['Longitude'].round(6)  # Adjust the number of decimal places as needed\n",
    "\n",
    "# Now you can drop the original 'GPS' column if it's no longer needed\n",
    "ocean.drop(columns=['GPS'], inplace=True)\n",
    "\n",
    "# Continue with any further processing and then save or use the DataFrame for modeling\n"
   ]
  },
  {
   "cell_type": "markdown",
   "id": "818d18a1",
   "metadata": {},
   "source": [
    "### 10. Dividing Date ,month and year  columns separately from Date  "
   ]
  },
  {
   "cell_type": "code",
   "execution_count": 17,
   "id": "d685e6ca",
   "metadata": {},
   "outputs": [],
   "source": [
    "# Convert 'Cleanup Date' to datetime\n",
    "ocean['Cleanup Date'] = pd.to_datetime(ocean['Cleanup Date'])\n",
    "\n",
    "# Extract year, month, and day as separate features\n",
    "ocean['Year'] = ocean['Cleanup Date'].dt.year\n",
    "ocean['Month'] = ocean['Cleanup Date'].dt.month\n",
    "ocean['Day'] = ocean['Cleanup Date'].dt.day\n",
    "\n",
    "# Now you can drop the original 'Cleanup Date' column if it's no longer needed\n",
    "ocean.drop(columns=['Cleanup Date'], inplace=True)\n"
   ]
  },
  {
   "cell_type": "markdown",
   "id": "7ddf4dc9",
   "metadata": {},
   "source": [
    "### 11. Converting \"Trash Level\" to binary column"
   ]
  },
  {
   "cell_type": "code",
   "execution_count": 18,
   "id": "649f1235",
   "metadata": {},
   "outputs": [
    {
     "name": "stdout",
     "output_type": "stream",
     "text": [
      "Before Replacement:\n",
      "['Low' 'Medium' 'High']\n",
      "\n",
      "After Replacement:\n",
      "[0 1 2]\n"
     ]
    }
   ],
   "source": [
    "# Print unique values before replacement\n",
    "print(\"Before Replacement:\")\n",
    "print(ocean['Trash level'].unique())\n",
    "\n",
    "# Map 'High' to 1 and 'Medium'/'Low' to 0 in the existing column\n",
    "ocean['Trash level'].replace({'High': 2, 'Medium': 1, 'Low': 0}, inplace=True)\n",
    "\n",
    "# Print unique values after replacement\n",
    "print(\"\\nAfter Replacement:\")\n",
    "print(ocean['Trash level'].unique())\n"
   ]
  },
  {
   "cell_type": "markdown",
   "id": "29f7e17b",
   "metadata": {},
   "source": [
    "____"
   ]
  },
  {
   "cell_type": "markdown",
   "id": "e87c50f4",
   "metadata": {},
   "source": [
    "___"
   ]
  },
  {
   "cell_type": "markdown",
   "id": "81c9e64b",
   "metadata": {},
   "source": [
    "### 12. Converting \"Immediate Cleanup Required\" to binary column "
   ]
  },
  {
   "cell_type": "code",
   "execution_count": 19,
   "id": "e66c0677",
   "metadata": {},
   "outputs": [
    {
     "name": "stdout",
     "output_type": "stream",
     "text": [
      "Before Replacement:\n",
      "['No' 'Yes']\n",
      "\n",
      "After Replacement:\n",
      "[0 1]\n"
     ]
    }
   ],
   "source": [
    "# Print unique values before replacement\n",
    "print(\"Before Replacement:\")\n",
    "print(ocean['Immediate Cleanup Required'].unique())\n",
    "\n",
    "# Map 'Yes' to 1 and 'No' to 0 in the existing column\n",
    "ocean['Immediate Cleanup Required'].replace({'Yes': 1, 'No': 0}, inplace=True)\n",
    "\n",
    "# Print unique values after replacement\n",
    "print(\"\\nAfter Replacement:\")\n",
    "print(ocean['Immediate Cleanup Required'].unique())"
   ]
  },
  {
   "cell_type": "markdown",
   "id": "5e2b6ef3",
   "metadata": {},
   "source": [
    "___"
   ]
  },
  {
   "cell_type": "markdown",
   "id": "4a740d9d",
   "metadata": {},
   "source": [
    "### 13. Dropping the non-numeric rows in Cleanup ID"
   ]
  },
  {
   "cell_type": "code",
   "execution_count": 20,
   "id": "898b8bb9",
   "metadata": {},
   "outputs": [],
   "source": [
    "# Check if 'Cleanup ID' contains non-numeric values\n",
    "non_numeric_rows = ocean[pd.to_numeric(ocean['Cleanup ID'], errors='coerce').isna()]\n",
    "\n",
    "# Drop rows with non-numeric 'Cleanup ID'\n",
    "ocean = ocean[~pd.to_numeric(ocean['Cleanup ID'], errors='coerce').isna()]\n",
    "\n",
    "ocean.drop(columns=['Immediate Cleanup Required?'], inplace=True)"
   ]
  },
  {
   "cell_type": "code",
   "execution_count": 21,
   "id": "79ecb7fe",
   "metadata": {},
   "outputs": [],
   "source": [
    "# Save the updated DataFrame to a new CSV file\n",
    "ocean.to_csv('cleaned_ocean.csv', index=False)  # Replace 'updated_dataset.csv' with your desired output file name"
   ]
  },
  {
   "cell_type": "markdown",
   "id": "862c9ef8",
   "metadata": {},
   "source": [
    "___"
   ]
  }
 ],
 "metadata": {
  "kernelspec": {
   "display_name": "Python 3 (ipykernel)",
   "language": "python",
   "name": "python3"
  },
  "language_info": {
   "codemirror_mode": {
    "name": "ipython",
    "version": 3
   },
   "file_extension": ".py",
   "mimetype": "text/x-python",
   "name": "python",
   "nbconvert_exporter": "python",
   "pygments_lexer": "ipython3",
   "version": "3.9.13"
  }
 },
 "nbformat": 4,
 "nbformat_minor": 5
}
