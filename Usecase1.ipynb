{
 "cells": [
  {
   "cell_type": "markdown",
   "id": "a5c96564",
   "metadata": {},
   "source": [
    "## <u>Use case 1:</u> Forecasting Cleanup Types Based on Latitude,Longitude, Distance, Weight, and Trash Levels"
   ]
  },
  {
   "cell_type": "markdown",
   "id": "425f81e4",
   "metadata": {},
   "source": [
    "## <u>Model 1:</u> Decision Tree"
   ]
  },
  {
   "cell_type": "code",
   "execution_count": 1,
   "id": "c3c5e8f4",
   "metadata": {},
   "outputs": [
    {
     "name": "stdout",
     "output_type": "stream",
     "text": [
      "Accuracy: 96.76%\n",
      "Training Accuracy: 100.00%\n",
      "Test Accuracy: 96.76%\n",
      "Precision: 96.76%\n",
      "Recall: 96.76%\n",
      "F1 Score: 96.75%\n"
     ]
    }
   ],
   "source": [
    "import pandas as pd\n",
    "from sklearn.model_selection import train_test_split\n",
    "from sklearn.preprocessing import StandardScaler\n",
    "from sklearn.tree import DecisionTreeClassifier\n",
    "from sklearn.metrics import accuracy_score, precision_score, recall_score, f1_score\n",
    "import warnings\n",
    "warnings.filterwarnings('ignore')\n",
    "\n",
    "# Load the preprocessed data\n",
    "ocean = pd.read_csv('cleaned_ocean.csv')\n",
    "\n",
    "# Latitude, Longitude, and all of the trash types are included to determine the cleanup type\n",
    "X = ocean[['Latitude', 'Longitude', 'Miles', 'Pounds', 'Trash level']]\n",
    "y = ocean['Cleanup Type']\n",
    "\n",
    "# Split the data into training and testing sets\n",
    "X_train, X_test, y_train, y_test = train_test_split(X, y, test_size=0.2, random_state=20)\n",
    "\n",
    "# Standardize the features\n",
    "scaler = StandardScaler()\n",
    "X_train_scaled = scaler.fit_transform(X_train)\n",
    "X_test_scaled = scaler.transform(X_test)\n",
    "\n",
    "# Initialize the Decision Tree Classifier\n",
    "dt_model = DecisionTreeClassifier(random_state=42)\n",
    "\n",
    "# Train the model\n",
    "dt_model.fit(X_train_scaled, y_train)\n",
    "\n",
    "# Make predictions on the test set\n",
    "y_pred = dt_model.predict(X_test_scaled)\n",
    "\n",
    "# Evaluate the model\n",
    "accuracy = accuracy_score(y_test, y_pred)\n",
    "\n",
    "\n",
    "# Precision, Recall, and F1 Score, expressed as a percentage\n",
    "precision = precision_score(y_test, y_pred, average='weighted') * 100  # Multiplied by 100 to convert to percentage\n",
    "recall = recall_score(y_test, y_pred, average='weighted') * 100\n",
    "f1 = f1_score(y_test, y_pred, average='weighted') * 100\n",
    "\n",
    "# Print the evaluation metrics\n",
    "print(f\"Accuracy: {accuracy*100:.2f}%\")\n",
    "training_accuracy = accuracy_score(y_train, dt_model.predict(X_train_scaled)) * 100\n",
    "validation_accuracy = accuracy_score(y_test, y_pred) * 100\n",
    "print(f\"Training Accuracy: {training_accuracy:.2f}%\")\n",
    "print(f\"Test Accuracy: {validation_accuracy:.2f}%\")\n",
    "print(f\"Precision: {precision:.2f}%\")\n",
    "print(f\"Recall: {recall:.2f}%\")\n",
    "print(f\"F1 Score: {f1:.2f}%\")"
   ]
  },
  {
   "cell_type": "code",
   "execution_count": 2,
   "id": "f26d15af",
   "metadata": {},
   "outputs": [
    {
     "name": "stdout",
     "output_type": "stream",
     "text": [
      "Predicted cleanup type: Land (beach, shoreline and inland)\n"
     ]
    }
   ],
   "source": [
    "import pandas as pd\n",
    "from sklearn.model_selection import train_test_split\n",
    "from sklearn.tree import DecisionTreeClassifier\n",
    "from sklearn.preprocessing import LabelEncoder\n",
    "from sklearn.metrics import accuracy_score\n",
    "\n",
    "# Load the dataset\n",
    "file_path = 'cleaned_ocean.csv'\n",
    "data = pd.read_csv(file_path)\n",
    "\n",
    "# Define the feature set including the specified additional features\n",
    "feature_columns =['Latitude', 'Longitude','Miles','Pounds','Trash level']\n",
    "\n",
    "# Prepare the features and target\n",
    "X = data[feature_columns]  # Features including additional specified features\n",
    "y = data['Cleanup Type']  # Target\n",
    "\n",
    "# Drop rows with missing values\n",
    "X = X.dropna()\n",
    "y = y[X.index]  # Ensure the target aligns with the feature set\n",
    "\n",
    "# Encode the Cleanup Type labels\n",
    "label_encoder = LabelEncoder()\n",
    "y_encoded = label_encoder.fit_transform(y)\n",
    "\n",
    "# Splitting the dataset into training and test sets\n",
    "X_train, X_test, y_train, y_test = train_test_split(X, y_encoded, test_size=0.2, random_state=20)\n",
    "\n",
    "# Initialize the Decision Tree Classifier\n",
    "dt_classifier = DecisionTreeClassifier(random_state=42)\n",
    "\n",
    "# Train the classifier\n",
    "dt_classifier.fit(X_train, y_train)\n",
    "\n",
    "# Predict on the test set\n",
    "y_pred = dt_classifier.predict(X_test)\n",
    "\n",
    "# Calculate the accuracy\n",
    "accuracy = accuracy_score(y_test, y_pred)\n",
    "\n",
    "# Function to predict the cleanup type based on given latitude and longitude\n",
    "# Function to predict the cleanup type based on given features\n",
    "def predict_cleanup_type(features, model, label_encoder):\n",
    "    # Ensure that the input features match the training data's features\n",
    "    if len(features) != 5:\n",
    "        raise ValueError(f\"Expected 5 features, but received {len(features)}\")\n",
    "    \n",
    "    # Create a DataFrame with the input features\n",
    "    input_features = pd.DataFrame([features], columns=X.columns)\n",
    "    \n",
    "    # Use the model to predict the cleanup type\n",
    "    prediction = model.predict(input_features)\n",
    "    \n",
    "    # Convert the numerical label back to the original cleanup type name\n",
    "    predicted_cleanup_type_name = label_encoder.inverse_transform(prediction)\n",
    "    \n",
    "    return predicted_cleanup_type_name[0]\n",
    "\n",
    "# Example features\n",
    "# Replace with actual feature values\n",
    "example_features = [47.639629, -122.333268,1, 26, 2]  # Include all 50 feature values here\n",
    "\n",
    "# Predict the cleanup type for the provided features\n",
    "predicted_cleanup_type = predict_cleanup_type(example_features, dt_classifier, label_encoder)\n",
    "\n",
    "# Print out the results\n",
    "print(f\"Predicted cleanup type: {predicted_cleanup_type}\")\n"
   ]
  },
  {
   "cell_type": "markdown",
   "id": "5ee0be43",
   "metadata": {},
   "source": [
    "___"
   ]
  },
  {
   "cell_type": "markdown",
   "id": "93bec8f3",
   "metadata": {},
   "source": [
    "## <u>Model 2:</u> Random Forest"
   ]
  },
  {
   "cell_type": "code",
   "execution_count": 3,
   "id": "a215bbda",
   "metadata": {},
   "outputs": [
    {
     "name": "stdout",
     "output_type": "stream",
     "text": [
      "Accuracy (Random Forest): 98.05%\n",
      "Training Accuracy (Random Forest): 100.00%\n",
      "Test Accuracy (Random Forest): 98.05%\n",
      "Precision (Random Forest): 97.86%\n",
      "Recall (Random Forest): 98.05%\n",
      "F1 Score (Random Forest): 97.49%\n"
     ]
    }
   ],
   "source": [
    "from sklearn.ensemble import RandomForestClassifier\n",
    "from sklearn.ensemble import RandomForestClassifier\n",
    "from sklearn.metrics import accuracy_score, precision_score, recall_score, f1_score\n",
    "import pandas as pd\n",
    "from sklearn.model_selection import train_test_split\n",
    "\n",
    "# Initialize the Random Forest Classifier\n",
    "rf_model = RandomForestClassifier(n_estimators=100, random_state=20)\n",
    "\n",
    "# Train the model\n",
    "rf_model.fit(X_train_scaled, y_train)\n",
    "\n",
    "# Make predictions on the test set\n",
    "y_pred = rf_model.predict(X_test_scaled)\n",
    "# Evaluate the model\n",
    "accuracy = accuracy_score(y_test, y_pred) * 100  # Convert to percentage\n",
    "training_accuracy = accuracy_score(y_train, rf_model.predict(X_train_scaled)) * 100\n",
    "validation_accuracy = accuracy_score(y_test, y_pred) * 100\n",
    "precision = precision_score(y_test, y_pred, average='weighted') * 100\n",
    "recall = recall_score(y_test, y_pred, average='weighted') * 100\n",
    "f1 = f1_score(y_test, y_pred, average='weighted') * 100\n",
    "\n",
    "# Print the evaluation metrics in percentage format\n",
    "print(f\"Accuracy (Random Forest): {accuracy:.2f}%\")\n",
    "print(f\"Training Accuracy (Random Forest): {training_accuracy:.2f}%\")\n",
    "print(f\"Test Accuracy (Random Forest): {validation_accuracy:.2f}%\")\n",
    "print(f\"Precision (Random Forest): {precision:.2f}%\")\n",
    "print(f\"Recall (Random Forest): {recall:.2f}%\")\n",
    "print(f\"F1 Score (Random Forest): {f1:.2f}%\")"
   ]
  },
  {
   "cell_type": "code",
   "execution_count": 4,
   "id": "595ea8f4",
   "metadata": {},
   "outputs": [
    {
     "name": "stdout",
     "output_type": "stream",
     "text": [
      "Predicted cleanup type: Land (beach, shoreline and inland)\n"
     ]
    }
   ],
   "source": [
    "# Prediction of cleanup type using sample data\n",
    "\n",
    "def predict_cleanup_type(features, model, label_encoder):\n",
    "    # Ensure that the input features match the training data's features\n",
    "    if len(features) != 5:\n",
    "        raise ValueError(f\"Expected 5 features, but received {len(features)}\")\n",
    "    \n",
    "    # Create a DataFrame with the input features\n",
    "    input_features = pd.DataFrame([features], columns=X.columns)\n",
    "    \n",
    "    # Use the model to predict the cleanup type\n",
    "    prediction = model.predict(input_features)\n",
    "    \n",
    "    # Convert the numerical label back to the original cleanup type name\n",
    "    predicted_cleanup_type_name = label_encoder.inverse_transform(prediction)\n",
    "    \n",
    "    return predicted_cleanup_type_name[0]\n",
    "\n",
    "# Example features\n",
    "# Replace with actual feature values\n",
    "example_features = [47.639629, -122.333268,'1','26','2'] \n",
    "\n",
    "# Predict the cleanup type for the provided features\n",
    "predicted_cleanup_type = predict_cleanup_type(example_features, dt_classifier, label_encoder)\n",
    "\n",
    "# Print out the results\n",
    "print(f\"Predicted cleanup type: {predicted_cleanup_type}\")"
   ]
  },
  {
   "cell_type": "markdown",
   "id": "23ff2178",
   "metadata": {},
   "source": [
    "___"
   ]
  },
  {
   "cell_type": "markdown",
   "id": "061c4a85",
   "metadata": {},
   "source": [
    "## <u>Model 3:</u> Logistic Regression"
   ]
  },
  {
   "cell_type": "code",
   "execution_count": 5,
   "id": "1c63f372",
   "metadata": {},
   "outputs": [
    {
     "name": "stdout",
     "output_type": "stream",
     "text": [
      "Accuracy: 98.18%\n",
      "Training Accuracy: 97.86%\n",
      "Test Accuracy: 98.18%\n",
      "Precision : 96.42%\n",
      "Recall  98.18%\n",
      "F1 Score : 97.29%\n"
     ]
    }
   ],
   "source": [
    "import pandas as pd\n",
    "from sklearn.model_selection import train_test_split\n",
    "from sklearn.preprocessing import StandardScaler\n",
    "from sklearn.linear_model import LogisticRegression  # Import Logistic Regression\n",
    "from sklearn.metrics import accuracy_score, classification_report, confusion_matrix\n",
    "\n",
    "# Load the preprocessed data\n",
    "ocean = pd.read_csv('cleaned_ocean.csv')\n",
    "\n",
    "# Latitude, Longitude, and all of the trash types are included to determine the cleanup type\n",
    "X = ocean[['Latitude', 'Longitude', 'Miles', 'Pounds', 'Trash level']]\n",
    "y = ocean['Cleanup Type']\n",
    "\n",
    "# Split the data into training and testing sets\n",
    "X_train, X_test, y_train, y_test = train_test_split(X, y, test_size=0.2, random_state=42)\n",
    "\n",
    "# Standardize the features\n",
    "scaler = StandardScaler()\n",
    "X_train_scaled = scaler.fit_transform(X_train)\n",
    "X_test_scaled = scaler.transform(X_test)\n",
    "\n",
    "# Initialize the Logistic Regression Model with multinomial option\n",
    "lr_model = LogisticRegression(random_state=42, multi_class='multinomial', solver='lbfgs')\n",
    "\n",
    "# Train the model\n",
    "lr_model.fit(X_train_scaled, y_train)\n",
    "\n",
    "# Make predictions on the test set\n",
    "y_pred = lr_model.predict(X_test_scaled)\n",
    "\n",
    "# Evaluate the model\n",
    "accuracy = accuracy_score(y_test, y_pred)\n",
    "precision = precision_score(y_test, y_pred, average='weighted') * 100\n",
    "recall = recall_score(y_test, y_pred, average='weighted') * 100\n",
    "f1 = f1_score(y_test, y_pred, average='weighted') * 100\n",
    "\n",
    "# Print the evaluation metrics\n",
    "print(f\"Accuracy: {accuracy*100:.2f}%\")\n",
    "training_accuracy = accuracy_score(y_train, lr_model.predict(X_train_scaled))\n",
    "validation_accuracy = accuracy_score(y_test, y_pred)\n",
    "print(f\"Training Accuracy: {training_accuracy*100:.2f}%\")\n",
    "print(f\"Test Accuracy: {validation_accuracy*100:.2f}%\")\n",
    "print(f\"Precision : {precision:.2f}%\")\n",
    "print(f\"Recall  {recall:.2f}%\")\n",
    "print(f\"F1 Score : {f1:.2f}%\")"
   ]
  },
  {
   "cell_type": "code",
   "execution_count": 6,
   "id": "0656a8df",
   "metadata": {},
   "outputs": [
    {
     "name": "stdout",
     "output_type": "stream",
     "text": [
      "Predicted cleanup type (numerical label): Land (beach, shoreline and inland)\n"
     ]
    }
   ],
   "source": [
    "from sklearn.preprocessing import StandardScaler\n",
    "from sklearn.linear_model import LogisticRegression\n",
    "from sklearn.model_selection import train_test_split\n",
    "import pandas as pd\n",
    "\n",
    "# Load the preprocessed data\n",
    "ocean = pd.read_csv('cleaned_ocean.csv')\n",
    "\n",
    "# Extract features and target variable\n",
    "X = ocean[['Latitude', 'Longitude', 'Miles', 'Pounds', 'Trash level']]\n",
    "y = ocean['Cleanup Type']\n",
    "\n",
    "# Split the data into training and testing sets\n",
    "X_train, X_test, y_train, y_test = train_test_split(X, y, test_size=0.2, random_state=42)\n",
    "\n",
    "# Standardize the features\n",
    "scaler = StandardScaler()\n",
    "X_train_scaled = scaler.fit_transform(X_train)\n",
    "X_test_scaled = scaler.transform(X_test)\n",
    "\n",
    "# Initialize the Logistic Regression Model with multinomial option\n",
    "lr_model = LogisticRegression(random_state=42, multi_class='multinomial', solver='lbfgs')\n",
    "\n",
    "# Train the model\n",
    "lr_model.fit(X_train_scaled, y_train)\n",
    "\n",
    "# Prediction of cleanup type using sample data\n",
    "def predict_cleanup_type(features, model):\n",
    "    # Ensure that the input features match the training data's features\n",
    "    if len(features) != 5:\n",
    "        raise ValueError(f\"Expected 5 features, but received {len(features)}\")\n",
    "    \n",
    "    # Convert feature values to numeric (if they are not already)\n",
    "    features = [float(x) if isinstance(x, (int, float)) else x for x in features]\n",
    "    \n",
    "    # Create a DataFrame with the input features\n",
    "    input_features = pd.DataFrame([features], columns=X.columns)\n",
    "    \n",
    "    # Standardize the input features\n",
    "    input_features_scaled = scaler.transform(input_features)\n",
    "    \n",
    "    # Use the model to predict the cleanup type\n",
    "    prediction = model.predict(input_features_scaled)\n",
    "    \n",
    "    return prediction[0]  # Directly return the numerical class label\n",
    "\n",
    "# Example features\n",
    "# Replace with actual feature values (make sure they are numeric)\n",
    "example_features = [47.639629, -122.333268, 1.0, 26.0, 2.0]\n",
    "\n",
    "# Predict the cleanup type for the provided features\n",
    "predicted_cleanup_type = predict_cleanup_type(example_features, lr_model)\n",
    "\n",
    "# Print out the results\n",
    "print(f\"Predicted cleanup type (numerical label): {predicted_cleanup_type}\")\n"
   ]
  },
  {
   "cell_type": "markdown",
   "id": "b3e8c26f",
   "metadata": {},
   "source": [
    "___"
   ]
  },
  {
   "cell_type": "markdown",
   "id": "35490799",
   "metadata": {},
   "source": [
    "## <u>Model 4:</u> KNN"
   ]
  },
  {
   "cell_type": "code",
   "execution_count": 7,
   "id": "f93df24c",
   "metadata": {},
   "outputs": [
    {
     "name": "stdout",
     "output_type": "stream",
     "text": [
      "Training Accuracy (Multi-class balanced - KNN): 100.00%\n",
      "Test Accuracy : 98.21%\n",
      "Precision : 97.77%\n",
      "Recall : 98.21%\n",
      "F1 Score : 97.90%\n"
     ]
    }
   ],
   "source": [
    "from sklearn.neighbors import KNeighborsClassifier\n",
    "\n",
    "# Initialize the K-Nearest Neighbors Classifier for multi-class classification\n",
    "knn_model_multi_balanced = KNeighborsClassifier(n_neighbors=5, weights='distance')\n",
    "\n",
    "# Train the model\n",
    "knn_model_multi_balanced.fit(X_train_scaled, y_train)\n",
    "\n",
    "# Make predictions on the test set\n",
    "y_pred_multi_balanced_knn = knn_model_multi_balanced.predict(X_test_scaled)\n",
    "\n",
    "# Evaluate the KNN model\n",
    "accuracy_multi_balanced_knn = accuracy_score(y_test, y_pred_multi_balanced_knn)\n",
    "conf_matrix_multi_balanced_knn = confusion_matrix(y_test, y_pred_multi_balanced_knn)\n",
    "classification_rep_multi_balanced_knn = classification_report(y_test, y_pred_multi_balanced_knn)\n",
    "training_accuracy_multi_balanced_knn = accuracy_score(y_train, knn_model_multi_balanced.predict(X_train_scaled))\n",
    "validation_accuracy_multi_balanced_knn = accuracy_score(y_test, y_pred_multi_balanced_knn)\n",
    "precision_multi_balanced_knn = precision_score(y_test, y_pred_multi_balanced_knn, average='weighted')\n",
    "recall_multi_balanced_knn = recall_score(y_test, y_pred_multi_balanced_knn, average='weighted')\n",
    "f1_multi_balanced_knn = f1_score(y_test, y_pred_multi_balanced_knn, average='weighted')\n",
    "\n",
    "print(f\"Training Accuracy (Multi-class balanced - KNN): {training_accuracy_multi_balanced_knn*100:.2f}%\")\n",
    "print(f\"Test Accuracy : {validation_accuracy_multi_balanced_knn*100:.2f}%\")\n",
    "print(f\"Precision : {precision_multi_balanced_knn*100:.2f}%\")\n",
    "print(f\"Recall : {recall_multi_balanced_knn*100:.2f}%\")\n",
    "print(f\"F1 Score : {f1_multi_balanced_knn*100:.2f}%\")\n"
   ]
  },
  {
   "cell_type": "code",
   "execution_count": 8,
   "id": "bd42cb8b",
   "metadata": {},
   "outputs": [
    {
     "name": "stdout",
     "output_type": "stream",
     "text": [
      "Predicted cleanup type (numerical label): Land (beach, shoreline and inland)\n"
     ]
    }
   ],
   "source": [
    "from sklearn.preprocessing import StandardScaler\n",
    "from sklearn.neighbors import KNeighborsClassifier\n",
    "from sklearn.model_selection import train_test_split\n",
    "import pandas as pd\n",
    "\n",
    "# Load the preprocessed data\n",
    "ocean = pd.read_csv('cleaned_ocean.csv')\n",
    "\n",
    "# Extract features and target variable\n",
    "X = ocean[['Latitude', 'Longitude', 'Miles', 'Pounds', 'Trash level']]\n",
    "y = ocean['Cleanup Type']\n",
    "\n",
    "# Split the data into training and testing sets\n",
    "X_train, X_test, y_train, y_test = train_test_split(X, y, test_size=0.2, random_state=42)\n",
    "\n",
    "# Standardize the features\n",
    "scaler = StandardScaler()\n",
    "X_train_scaled = scaler.fit_transform(X_train)\n",
    "X_test_scaled = scaler.transform(X_test)\n",
    "\n",
    "# Initialize the KNN model\n",
    "knn_model = KNeighborsClassifier(n_neighbors=5)  # You can adjust the number of neighbors\n",
    "\n",
    "# Train the model\n",
    "knn_model.fit(X_train_scaled, y_train)\n",
    "\n",
    "# Prediction function\n",
    "def predict_cleanup_type_knn(features, model):\n",
    "    # Ensure that the input features match the training data's features\n",
    "    if len(features) != 5:\n",
    "        raise ValueError(f\"Expected 5 features, but received {len(features)}\")\n",
    "    \n",
    "    # Convert feature values to numeric\n",
    "    features = [float(x) if isinstance(x, (int, float)) else x for x in features]\n",
    "    \n",
    "    # Create a DataFrame with the input features\n",
    "    input_features = pd.DataFrame([features], columns=X.columns)\n",
    "    \n",
    "    # Standardize the input features\n",
    "    input_features_scaled = scaler.transform(input_features)\n",
    "    \n",
    "    # Use the model to predict the cleanup type\n",
    "    prediction = model.predict(input_features_scaled)\n",
    "    \n",
    "    return prediction[0]\n",
    "\n",
    "# Example features\n",
    "example_features_knn = [47.639629, -122.333268, 1.0, 26.0, 2.0]\n",
    "\n",
    "# Predict the cleanup type using KNN\n",
    "predicted_cleanup_type_knn = predict_cleanup_type_knn(example_features_knn, knn_model)\n",
    "\n",
    "# Print out the results\n",
    "print(f\"Predicted cleanup type (numerical label): {predicted_cleanup_type_knn}\")\n"
   ]
  },
  {
   "cell_type": "markdown",
   "id": "95c544a0",
   "metadata": {},
   "source": [
    "___"
   ]
  },
  {
   "cell_type": "markdown",
   "id": "9ab6ca80",
   "metadata": {},
   "source": [
    "## <u>Model 5:</u> SVM"
   ]
  },
  {
   "cell_type": "code",
   "execution_count": 9,
   "id": "5b6def01",
   "metadata": {},
   "outputs": [
    {
     "name": "stdout",
     "output_type": "stream",
     "text": [
      "Accuracy: 98.19%\n",
      "Training Accuracy: 97.86%\n",
      "Test Accuracy: 98.19%\n",
      "Precision : 96.42%\n",
      "Recall : 98.19%\n",
      "F1 Score : 97.30%\n"
     ]
    }
   ],
   "source": [
    "import pandas as pd\n",
    "from sklearn.model_selection import train_test_split\n",
    "from sklearn.preprocessing import StandardScaler\n",
    "from sklearn.svm import SVC  # Import SVM Classifier\n",
    "from sklearn.metrics import accuracy_score, classification_report, confusion_matrix\n",
    "\n",
    "# Load the preprocessed data\n",
    "ocean = pd.read_csv('cleaned_ocean.csv')\n",
    "\n",
    "# Latitude, Longitude, and all of the trash types are included to determine the cleanup type\n",
    "X = ocean[['Latitude', 'Longitude', 'Miles', 'Pounds', 'Trash level']]\n",
    "y = ocean['Cleanup Type']\n",
    "\n",
    "# Split the data into training and testing sets\n",
    "X_train, X_test, y_train, y_test = train_test_split(X, y, test_size=0.2, random_state=42)\n",
    "\n",
    "# Standardize the features\n",
    "scaler = StandardScaler()\n",
    "X_train_scaled = scaler.fit_transform(X_train)\n",
    "X_test_scaled = scaler.transform(X_test)\n",
    "\n",
    "# Initialize the SVM Classifier\n",
    "svm_model = SVC(kernel='linear')  # You can choose different kernels such as 'rbf', 'poly', etc.\n",
    "\n",
    "# Train the model\n",
    "svm_model.fit(X_train_scaled, y_train)\n",
    "\n",
    "# Make predictions on the test set\n",
    "y_pred = svm_model.predict(X_test_scaled)\n",
    "\n",
    "# Evaluate the model\n",
    "accuracy = accuracy_score(y_test, y_pred)\n",
    "precision = precision_score(y_test, y_pred, average='weighted')\n",
    "recall = recall_score(y_test, y_pred, average='weighted')\n",
    "f1 = f1_score(y_test, y_pred, average='weighted')\n",
    "\n",
    "# Print the evaluation metrics\n",
    "print(f\"Accuracy: {accuracy*100:.2f}%\")\n",
    "training_accuracy = accuracy_score(y_train, svm_model.predict(X_train_scaled))\n",
    "validation_accuracy = accuracy_score(y_test, y_pred)\n",
    "print(f\"Training Accuracy: {training_accuracy*100:.2f}%\")\n",
    "print(f\"Test Accuracy: {validation_accuracy*100:.2f}%\")\n",
    "print(f\"Precision : {precision*100:.2f}%\")\n",
    "print(f\"Recall : {recall*100:.2f}%\")\n",
    "print(f\"F1 Score : {f1*100:.2f}%\")\n"
   ]
  },
  {
   "cell_type": "code",
   "execution_count": 10,
   "id": "5d5993eb",
   "metadata": {},
   "outputs": [
    {
     "name": "stdout",
     "output_type": "stream",
     "text": [
      "Predicted cleanup type (numerical label): Land (beach, shoreline and inland)\n"
     ]
    }
   ],
   "source": [
    "from sklearn.preprocessing import StandardScaler\n",
    "from sklearn.svm import SVC\n",
    "from sklearn.model_selection import train_test_split\n",
    "import pandas as pd\n",
    "\n",
    "# Load the preprocessed data\n",
    "ocean = pd.read_csv('cleaned_ocean.csv')\n",
    "\n",
    "# Extract features and target variable\n",
    "X = ocean[['Latitude', 'Longitude', 'Miles', 'Pounds', 'Trash level']]\n",
    "y = ocean['Cleanup Type']\n",
    "\n",
    "# Split the data into training and testing sets\n",
    "X_train, X_test, y_train, y_test = train_test_split(X, y, test_size=0.2, random_state=42)\n",
    "\n",
    "# Standardize the features\n",
    "scaler = StandardScaler()\n",
    "X_train_scaled = scaler.fit_transform(X_train)\n",
    "X_test_scaled = scaler.transform(X_test)\n",
    "\n",
    "# Initialize the SVM model\n",
    "svm_model = SVC(kernel='rbf', random_state=42)  # Example with RBF kernel\n",
    "\n",
    "# Train the model\n",
    "svm_model.fit(X_train_scaled, y_train)\n",
    "\n",
    "# Prediction function\n",
    "def predict_cleanup_type_svm(features, model):\n",
    "    # Ensure that the input features match the training data's features\n",
    "    if len(features) != 5:\n",
    "        raise ValueError(f\"Expected 5 features, but received {len(features)}\")\n",
    "    \n",
    "    # Convert feature values to numeric\n",
    "    features = [float(x) if isinstance(x, (int, float)) else x for x in features]\n",
    "    \n",
    "    # Create a DataFrame with the input features\n",
    "    input_features = pd.DataFrame([features], columns=X.columns)\n",
    "    \n",
    "    # Standardize the input features\n",
    "    input_features_scaled = scaler.transform(input_features)\n",
    "    \n",
    "    # Use the model to predict the cleanup type\n",
    "    prediction = model.predict(input_features_scaled)\n",
    "    \n",
    "    return prediction[0]\n",
    "\n",
    "# Example features\n",
    "example_features_svm = [47.639629, -122.333268, 1.0, 26.0, 2.0]\n",
    "\n",
    "# Predict the cleanup type using SVM\n",
    "predicted_cleanup_type_svm = predict_cleanup_type_svm(example_features_svm, svm_model)\n",
    "\n",
    "# Print out the results\n",
    "print(f\"Predicted cleanup type (numerical label): {predicted_cleanup_type_svm}\")"
   ]
  }
 ],
 "metadata": {
  "kernelspec": {
   "display_name": "Python 3 (ipykernel)",
   "language": "python",
   "name": "python3"
  },
  "language_info": {
   "codemirror_mode": {
    "name": "ipython",
    "version": 3
   },
   "file_extension": ".py",
   "mimetype": "text/x-python",
   "name": "python",
   "nbconvert_exporter": "python",
   "pygments_lexer": "ipython3",
   "version": "3.9.13"
  }
 },
 "nbformat": 4,
 "nbformat_minor": 5
}
