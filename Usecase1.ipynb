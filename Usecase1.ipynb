{
 "cells": [
  {
   "cell_type": "markdown",
   "id": "a5c96564",
   "metadata": {},
   "source": [
<<<<<<< HEAD
    "## <u>Use case 1:</u> Predicting the \"Cleanup Type\" with the latitude, longitude and all trashes  "
=======
    "## <u>Use case 1:</u> Forecasting Cleanup Types Based on Latitude,Longitude, Distance, Weight, and Trash Levels"
>>>>>>> c719119 (changes)
   ]
  },
  {
   "cell_type": "markdown",
   "id": "425f81e4",
   "metadata": {},
   "source": [
    "## <u>Model 1:</u> Decision Tree"
   ]
  },
  {
   "cell_type": "code",
   "execution_count": 1,
   "id": "c3c5e8f4",
   "metadata": {},
   "outputs": [
    {
     "name": "stdout",
     "output_type": "stream",
     "text": [
      "Accuracy: 96.76%\n",
      "Training Accuracy: 100.00%\n",
      "Test Accuracy: 96.76%\n",
      "Precision: 96.76%\n",
      "Recall: 96.76%\n",
      "F1 Score: 96.75%\n"
     ]
    }
   ],
   "source": [
    "import pandas as pd\n",
    "from sklearn.model_selection import train_test_split\n",
    "from sklearn.preprocessing import StandardScaler\n",
    "from sklearn.tree import DecisionTreeClassifier\n",
    "from sklearn.metrics import accuracy_score, precision_score, recall_score, f1_score\n",
    "import warnings\n",
    "warnings.filterwarnings('ignore')\n",
    "\n",
    "# Load the preprocessed data\n",
    "ocean = pd.read_csv('cleaned_ocean.csv')\n",
    "\n",
    "# Latitude, Longitude, and all of the trash types are included to determine the cleanup type\n",
    "X = ocean[['Latitude', 'Longitude', 'Miles', 'Pounds', 'Trash level']]\n",
    "y = ocean['Cleanup Type']\n",
    "\n",
    "# Split the data into training and testing sets\n",
    "X_train, X_test, y_train, y_test = train_test_split(X, y, test_size=0.2, random_state=20)\n",
    "\n",
    "# Standardize the features\n",
    "scaler = StandardScaler()\n",
    "X_train_scaled = scaler.fit_transform(X_train)\n",
    "X_test_scaled = scaler.transform(X_test)\n",
    "\n",
    "# Initialize the Decision Tree Classifier\n",
    "dt_model = DecisionTreeClassifier(random_state=42)\n",
    "\n",
    "# Train the model\n",
    "dt_model.fit(X_train_scaled, y_train)\n",
    "\n",
    "# Make predictions on the test set\n",
    "y_pred = dt_model.predict(X_test_scaled)\n",
    "\n",
    "# Evaluate the model\n",
    "accuracy = accuracy_score(y_test, y_pred)\n",
    "\n",
    "\n",
    "# Precision, Recall, and F1 Score, expressed as a percentage\n",
    "precision = precision_score(y_test, y_pred, average='weighted') * 100  # Multiplied by 100 to convert to percentage\n",
    "recall = recall_score(y_test, y_pred, average='weighted') * 100\n",
    "f1 = f1_score(y_test, y_pred, average='weighted') * 100\n",
    "\n",
    "# Print the evaluation metrics\n",
    "print(f\"Accuracy: {accuracy*100:.2f}%\")\n",
    "training_accuracy = accuracy_score(y_train, dt_model.predict(X_train_scaled)) * 100\n",
    "validation_accuracy = accuracy_score(y_test, y_pred) * 100\n",
    "print(f\"Training Accuracy: {training_accuracy:.2f}%\")\n",
    "print(f\"Test Accuracy: {validation_accuracy:.2f}%\")\n",
    "print(f\"Precision: {precision:.2f}%\")\n",
    "print(f\"Recall: {recall:.2f}%\")\n",
    "print(f\"F1 Score: {f1:.2f}%\")"
   ]
  },
  {
   "cell_type": "code",
   "execution_count": 2,
   "id": "f26d15af",
   "metadata": {},
   "outputs": [
    {
     "name": "stdout",
     "output_type": "stream",
     "text": [
      "Predicted cleanup type: Land (beach, shoreline and inland)\n"
     ]
    }
   ],
   "source": [
    "import pandas as pd\n",
    "from sklearn.model_selection import train_test_split\n",
    "from sklearn.tree import DecisionTreeClassifier\n",
    "from sklearn.preprocessing import LabelEncoder\n",
    "from sklearn.metrics import accuracy_score\n",
    "\n",
    "# Load the dataset\n",
    "file_path = 'cleaned_ocean.csv'\n",
    "data = pd.read_csv(file_path)\n",
    "\n",
    "# Define the feature set including the specified additional features\n",
    "feature_columns =['Latitude', 'Longitude','Miles','Pounds','Trash level']\n",
    "\n",
    "# Prepare the features and target\n",
    "X = data[feature_columns]  # Features including additional specified features\n",
    "y = data['Cleanup Type']  # Target\n",
    "\n",
    "# Drop rows with missing values\n",
    "X = X.dropna()\n",
    "y = y[X.index]  # Ensure the target aligns with the feature set\n",
    "\n",
    "# Encode the Cleanup Type labels\n",
    "label_encoder = LabelEncoder()\n",
    "y_encoded = label_encoder.fit_transform(y)\n",
    "\n",
    "# Splitting the dataset into training and test sets\n",
    "X_train, X_test, y_train, y_test = train_test_split(X, y_encoded, test_size=0.2, random_state=20)\n",
    "\n",
    "# Initialize the Decision Tree Classifier\n",
    "dt_classifier = DecisionTreeClassifier(random_state=42)\n",
    "\n",
    "# Train the classifier\n",
    "dt_classifier.fit(X_train, y_train)\n",
    "\n",
    "# Predict on the test set\n",
    "y_pred = dt_classifier.predict(X_test)\n",
    "\n",
    "# Calculate the accuracy\n",
    "accuracy = accuracy_score(y_test, y_pred)\n",
    "\n",
    "# Function to predict the cleanup type based on given latitude and longitude\n",
    "# Function to predict the cleanup type based on given features\n",
    "def predict_cleanup_type(features, model, label_encoder):\n",
    "    # Ensure that the input features match the training data's features\n",
    "    if len(features) != 5:\n",
    "        raise ValueError(f\"Expected 5 features, but received {len(features)}\")\n",
    "    \n",
    "    # Create a DataFrame with the input features\n",
    "    input_features = pd.DataFrame([features], columns=X.columns)\n",
    "    \n",
    "    # Use the model to predict the cleanup type\n",
    "    prediction = model.predict(input_features)\n",
    "    \n",
    "    # Convert the numerical label back to the original cleanup type name\n",
    "    predicted_cleanup_type_name = label_encoder.inverse_transform(prediction)\n",
    "    \n",
    "    return predicted_cleanup_type_name[0]\n",
    "\n",
    "# Example features\n",
    "# Replace with actual feature values\n",
    "example_features = [47.639629, -122.333268,1, 26, 2]  # Include all 50 feature values here\n",
    "\n",
    "# Predict the cleanup type for the provided features\n",
    "predicted_cleanup_type = predict_cleanup_type(example_features, dt_classifier, label_encoder)\n",
    "\n",
    "# Print out the results\n",
    "print(f\"Predicted cleanup type: {predicted_cleanup_type}\")\n"
   ]
  },
  {
   "cell_type": "markdown",
   "id": "5ee0be43",
   "metadata": {},
   "source": [
    "___"
   ]
  },
  {
   "cell_type": "markdown",
   "id": "93bec8f3",
   "metadata": {},
   "source": [
    "## <u>Model 2:</u> Random Forest"
   ]
  },
  {
   "cell_type": "code",
   "execution_count": 3,
   "id": "a215bbda",
   "metadata": {},
   "outputs": [
    {
     "name": "stdout",
     "output_type": "stream",
     "text": [
      "Accuracy (Random Forest): 98.05%\n",
      "Training Accuracy (Random Forest): 100.00%\n",
      "Test Accuracy (Random Forest): 98.05%\n",
      "Precision (Random Forest): 97.86%\n",
      "Recall (Random Forest): 98.05%\n",
      "F1 Score (Random Forest): 97.49%\n"
     ]
    }
   ],
   "source": [
    "from sklearn.ensemble import RandomForestClassifier\n",
    "from sklearn.ensemble import RandomForestClassifier\n",
    "from sklearn.metrics import accuracy_score, precision_score, recall_score, f1_score\n",
    "import pandas as pd\n",
    "from sklearn.model_selection import train_test_split\n",
    "\n",
    "# Initialize the Random Forest Classifier\n",
    "rf_model = RandomForestClassifier(n_estimators=100, random_state=20)\n",
    "\n",
    "# Train the model\n",
    "rf_model.fit(X_train_scaled, y_train)\n",
    "\n",
    "# Make predictions on the test set\n",
    "y_pred = rf_model.predict(X_test_scaled)\n",
    "# Evaluate the model\n",
    "accuracy = accuracy_score(y_test, y_pred) * 100  # Convert to percentage\n",
    "training_accuracy = accuracy_score(y_train, rf_model.predict(X_train_scaled)) * 100\n",
    "validation_accuracy = accuracy_score(y_test, y_pred) * 100\n",
    "precision = precision_score(y_test, y_pred, average='weighted') * 100\n",
    "recall = recall_score(y_test, y_pred, average='weighted') * 100\n",
    "f1 = f1_score(y_test, y_pred, average='weighted') * 100\n",
    "\n",
    "# Print the evaluation metrics in percentage format\n",
    "print(f\"Accuracy (Random Forest): {accuracy:.2f}%\")\n",
    "print(f\"Training Accuracy (Random Forest): {training_accuracy:.2f}%\")\n",
    "print(f\"Test Accuracy (Random Forest): {validation_accuracy:.2f}%\")\n",
    "print(f\"Precision (Random Forest): {precision:.2f}%\")\n",
    "print(f\"Recall (Random Forest): {recall:.2f}%\")\n",
    "print(f\"F1 Score (Random Forest): {f1:.2f}%\")"
   ]
  },
  {
   "cell_type": "code",
   "execution_count": 4,
   "id": "595ea8f4",
   "metadata": {},
   "outputs": [
    {
     "name": "stdout",
     "output_type": "stream",
     "text": [
      "Predicted cleanup type: Land (beach, shoreline and inland)\n"
     ]
    }
   ],
   "source": [
    "# Prediction of cleanup type using sample data\n",
    "\n",
    "def predict_cleanup_type(features, model, label_encoder):\n",
    "    # Ensure that the input features match the training data's features\n",
    "    if len(features) != 5:\n",
    "        raise ValueError(f\"Expected 5 features, but received {len(features)}\")\n",
    "    \n",
    "    # Create a DataFrame with the input features\n",
    "    input_features = pd.DataFrame([features], columns=X.columns)\n",
    "    \n",
    "    # Use the model to predict the cleanup type\n",
    "    prediction = model.predict(input_features)\n",
    "    \n",
    "    # Convert the numerical label back to the original cleanup type name\n",
    "    predicted_cleanup_type_name = label_encoder.inverse_transform(prediction)\n",
    "    \n",
    "    return predicted_cleanup_type_name[0]\n",
    "\n",
    "# Example features\n",
    "# Replace with actual feature values\n",
    "example_features = [47.639629, -122.333268,'1','26','2'] \n",
    "\n",
    "# Predict the cleanup type for the provided features\n",
    "predicted_cleanup_type = predict_cleanup_type(example_features, dt_classifier, label_encoder)\n",
    "\n",
    "# Print out the results\n",
    "print(f\"Predicted cleanup type: {predicted_cleanup_type}\")"
   ]
  },
  {
   "cell_type": "markdown",
   "id": "23ff2178",
   "metadata": {},
   "source": [
    "___"
   ]
  },
  {
   "cell_type": "markdown",
   "id": "061c4a85",
   "metadata": {},
   "source": [
    "## <u>Model 3:</u> Logistic Regression"
   ]
  },
  {
   "cell_type": "code",
   "execution_count": 5,
   "id": "1c63f372",
   "metadata": {},
   "outputs": [
    {
     "name": "stdout",
     "output_type": "stream",
     "text": [
      "Accuracy: 98.18%\n",
      "Training Accuracy: 97.86%\n",
      "Test Accuracy: 98.18%\n",
      "Precision : 96.42%\n",
      "Recall  98.18%\n",
      "F1 Score : 97.29%\n"
     ]
    }
   ],
   "source": [
    "import pandas as pd\n",
    "from sklearn.model_selection import train_test_split\n",
    "from sklearn.preprocessing import StandardScaler\n",
    "from sklearn.linear_model import LogisticRegression  # Import Logistic Regression\n",
    "from sklearn.metrics import accuracy_score, classification_report, confusion_matrix\n",
    "\n",
    "# Load the preprocessed data\n",
    "ocean = pd.read_csv('cleaned_ocean.csv')\n",
    "\n",
    "# Latitude, Longitude, and all of the trash types are included to determine the cleanup type\n",
    "X = ocean[['Latitude', 'Longitude', 'Miles', 'Pounds', 'Trash level']]\n",
    "y = ocean['Cleanup Type']\n",
    "\n",
    "# Split the data into training and testing sets\n",
    "X_train, X_test, y_train, y_test = train_test_split(X, y, test_size=0.2, random_state=42)\n",
    "\n",
    "# Standardize the features\n",
    "scaler = StandardScaler()\n",
    "X_train_scaled = scaler.fit_transform(X_train)\n",
    "X_test_scaled = scaler.transform(X_test)\n",
    "\n",
    "# Initialize the Logistic Regression Model with multinomial option\n",
    "lr_model = LogisticRegression(random_state=42, multi_class='multinomial', solver='lbfgs')\n",
    "\n",
    "# Train the model\n",
    "lr_model.fit(X_train_scaled, y_train)\n",
    "\n",
    "# Make predictions on the test set\n",
    "y_pred = lr_model.predict(X_test_scaled)\n",
    "\n",
    "# Evaluate the model\n",
    "accuracy = accuracy_score(y_test, y_pred)\n",
    "precision = precision_score(y_test, y_pred, average='weighted') * 100\n",
    "recall = recall_score(y_test, y_pred, average='weighted') * 100\n",
    "f1 = f1_score(y_test, y_pred, average='weighted') * 100\n",
    "\n",
    "# Print the evaluation metrics\n",
    "print(f\"Accuracy: {accuracy*100:.2f}%\")\n",
    "training_accuracy = accuracy_score(y_train, lr_model.predict(X_train_scaled))\n",
    "validation_accuracy = accuracy_score(y_test, y_pred)\n",
    "print(f\"Training Accuracy: {training_accuracy*100:.2f}%\")\n",
    "print(f\"Test Accuracy: {validation_accuracy*100:.2f}%\")\n",
    "print(f\"Precision : {precision:.2f}%\")\n",
    "print(f\"Recall  {recall:.2f}%\")\n",
    "print(f\"F1 Score : {f1:.2f}%\")"
   ]
  },
  {
   "cell_type": "code",
   "execution_count": 6,
   "id": "0656a8df",
   "metadata": {},
   "outputs": [
    {
     "name": "stdout",
     "output_type": "stream",
     "text": [
      "Predicted cleanup type (numerical label): Land (beach, shoreline and inland)\n"
     ]
    }
   ],
   "source": [
    "from sklearn.preprocessing import StandardScaler\n",
    "from sklearn.linear_model import LogisticRegression\n",
    "from sklearn.model_selection import train_test_split\n",
    "import pandas as pd\n",
    "\n",
    "# Load the preprocessed data\n",
    "ocean = pd.read_csv('cleaned_ocean.csv')\n",
    "\n",
    "# Extract features and target variable\n",
    "X = ocean[['Latitude', 'Longitude', 'Miles', 'Pounds', 'Trash level']]\n",
    "y = ocean['Cleanup Type']\n",
    "\n",
    "# Split the data into training and testing sets\n",
    "X_train, X_test, y_train, y_test = train_test_split(X, y, test_size=0.2, random_state=42)\n",
    "\n",
    "# Standardize the features\n",
    "scaler = StandardScaler()\n",
    "X_train_scaled = scaler.fit_transform(X_train)\n",
    "X_test_scaled = scaler.transform(X_test)\n",
    "\n",
    "# Initialize the Logistic Regression Model with multinomial option\n",
    "lr_model = LogisticRegression(random_state=42, multi_class='multinomial', solver='lbfgs')\n",
    "\n",
    "# Train the model\n",
    "lr_model.fit(X_train_scaled, y_train)\n",
    "\n",
    "# Prediction of cleanup type using sample data\n",
    "def predict_cleanup_type(features, model):\n",
    "    # Ensure that the input features match the training data's features\n",
    "    if len(features) != 5:\n",
    "        raise ValueError(f\"Expected 5 features, but received {len(features)}\")\n",
    "    \n",
    "    # Convert feature values to numeric (if they are not already)\n",
    "    features = [float(x) if isinstance(x, (int, float)) else x for x in features]\n",
    "    \n",
    "    # Create a DataFrame with the input features\n",
    "    input_features = pd.DataFrame([features], columns=X.columns)\n",
    "    \n",
    "    # Standardize the input features\n",
    "    input_features_scaled = scaler.transform(input_features)\n",
    "    \n",
    "    # Use the model to predict the cleanup type\n",
    "    prediction = model.predict(input_features_scaled)\n",
    "    \n",
    "    return prediction[0]  # Directly return the numerical class label\n",
    "\n",
    "# Example features\n",
    "# Replace with actual feature values (make sure they are numeric)\n",
    "example_features = [47.639629, -122.333268, 1.0, 26.0, 2.0]\n",
    "\n",
    "# Predict the cleanup type for the provided features\n",
    "predicted_cleanup_type = predict_cleanup_type(example_features, lr_model)\n",
    "\n",
    "# Print out the results\n",
    "print(f\"Predicted cleanup type (numerical label): {predicted_cleanup_type}\")\n"
   ]
  },
  {
   "cell_type": "markdown",
   "id": "b3e8c26f",
   "metadata": {},
   "source": [
    "___"
   ]
  },
  {
   "cell_type": "markdown",
   "id": "35490799",
   "metadata": {},
   "source": [
    "## <u>Model 4:</u> KNN"
   ]
  },
  {
   "cell_type": "code",
   "execution_count": 7,
   "id": "f93df24c",
   "metadata": {},
   "outputs": [
    {
     "name": "stdout",
     "output_type": "stream",
     "text": [
      "Training Accuracy (Multi-class balanced - KNN): 100.00%\n",
      "Test Accuracy : 98.21%\n",
      "Precision : 97.77%\n",
      "Recall : 98.21%\n",
      "F1 Score : 97.90%\n"
     ]
    }
   ],
   "source": [
    "from sklearn.neighbors import KNeighborsClassifier\n",
    "\n",
    "# Initialize the K-Nearest Neighbors Classifier for multi-class classification\n",
    "knn_model_multi_balanced = KNeighborsClassifier(n_neighbors=5, weights='distance')\n",
    "\n",
    "# Train the model\n",
    "knn_model_multi_balanced.fit(X_train_scaled, y_train)\n",
    "\n",
    "# Make predictions on the test set\n",
    "y_pred_multi_balanced_knn = knn_model_multi_balanced.predict(X_test_scaled)\n",
    "\n",
    "# Evaluate the KNN model\n",
    "accuracy_multi_balanced_knn = accuracy_score(y_test, y_pred_multi_balanced_knn)\n",
    "conf_matrix_multi_balanced_knn = confusion_matrix(y_test, y_pred_multi_balanced_knn)\n",
    "classification_rep_multi_balanced_knn = classification_report(y_test, y_pred_multi_balanced_knn)\n",
    "training_accuracy_multi_balanced_knn = accuracy_score(y_train, knn_model_multi_balanced.predict(X_train_scaled))\n",
    "validation_accuracy_multi_balanced_knn = accuracy_score(y_test, y_pred_multi_balanced_knn)\n",
    "precision_multi_balanced_knn = precision_score(y_test, y_pred_multi_balanced_knn, average='weighted')\n",
    "recall_multi_balanced_knn = recall_score(y_test, y_pred_multi_balanced_knn, average='weighted')\n",
    "f1_multi_balanced_knn = f1_score(y_test, y_pred_multi_balanced_knn, average='weighted')\n",
    "\n",
    "print(f\"Training Accuracy (Multi-class balanced - KNN): {training_accuracy_multi_balanced_knn*100:.2f}%\")\n",
    "print(f\"Test Accuracy : {validation_accuracy_multi_balanced_knn*100:.2f}%\")\n",
    "print(f\"Precision : {precision_multi_balanced_knn*100:.2f}%\")\n",
    "print(f\"Recall : {recall_multi_balanced_knn*100:.2f}%\")\n",
    "print(f\"F1 Score : {f1_multi_balanced_knn*100:.2f}%\")\n"
   ]
  },
  {
   "cell_type": "code",
   "execution_count": 8,
   "id": "bd42cb8b",
   "metadata": {},
   "outputs": [
    {
     "name": "stdout",
     "output_type": "stream",
     "text": [
      "Predicted cleanup type (numerical label): Land (beach, shoreline and inland)\n"
     ]
    }
   ],
   "source": [
    "from sklearn.preprocessing import StandardScaler\n",
    "from sklearn.neighbors import KNeighborsClassifier\n",
    "from sklearn.model_selection import train_test_split\n",
    "import pandas as pd\n",
    "\n",
    "# Load the preprocessed data\n",
    "ocean = pd.read_csv('cleaned_ocean.csv')\n",
    "\n",
    "# Extract features and target variable\n",
    "X = ocean[['Latitude', 'Longitude', 'Miles', 'Pounds', 'Trash level']]\n",
    "y = ocean['Cleanup Type']\n",
    "\n",
    "# Split the data into training and testing sets\n",
    "X_train, X_test, y_train, y_test = train_test_split(X, y, test_size=0.2, random_state=42)\n",
    "\n",
    "# Standardize the features\n",
    "scaler = StandardScaler()\n",
    "X_train_scaled = scaler.fit_transform(X_train)\n",
    "X_test_scaled = scaler.transform(X_test)\n",
    "\n",
    "# Initialize the KNN model\n",
    "knn_model = KNeighborsClassifier(n_neighbors=5)  # You can adjust the number of neighbors\n",
    "\n",
    "# Train the model\n",
    "knn_model.fit(X_train_scaled, y_train)\n",
    "\n",
    "# Prediction function\n",
    "def predict_cleanup_type_knn(features, model):\n",
    "    # Ensure that the input features match the training data's features\n",
    "    if len(features) != 5:\n",
    "        raise ValueError(f\"Expected 5 features, but received {len(features)}\")\n",
    "    \n",
    "    # Convert feature values to numeric\n",
    "    features = [float(x) if isinstance(x, (int, float)) else x for x in features]\n",
    "    \n",
    "    # Create a DataFrame with the input features\n",
    "    input_features = pd.DataFrame([features], columns=X.columns)\n",
    "    \n",
    "    # Standardize the input features\n",
    "    input_features_scaled = scaler.transform(input_features)\n",
    "    \n",
    "    # Use the model to predict the cleanup type\n",
    "    prediction = model.predict(input_features_scaled)\n",
    "    \n",
    "    return prediction[0]\n",
    "\n",
    "# Example features\n",
    "example_features_knn = [47.639629, -122.333268, 1.0, 26.0, 2.0]\n",
    "\n",
    "# Predict the cleanup type using KNN\n",
    "predicted_cleanup_type_knn = predict_cleanup_type_knn(example_features_knn, knn_model)\n",
    "\n",
    "# Print out the results\n",
    "print(f\"Predicted cleanup type (numerical label): {predicted_cleanup_type_knn}\")\n"
   ]
  },
  {
   "cell_type": "markdown",
   "id": "95c544a0",
   "metadata": {},
   "source": [
    "___"
   ]
  },
  {
   "cell_type": "markdown",
   "id": "9ab6ca80",
   "metadata": {},
   "source": [
    "## <u>Model 5:</u> SVM"
   ]
  },
  {
   "cell_type": "code",
   "execution_count": 9,
   "id": "5b6def01",
   "metadata": {},
   "outputs": [
    {
     "name": "stdout",
     "output_type": "stream",
     "text": [
      "Accuracy: 98.19%\n",
      "Training Accuracy: 97.86%\n",
      "Test Accuracy: 98.19%\n",
      "Precision : 96.42%\n",
      "Recall : 98.19%\n",
      "F1 Score : 97.30%\n"
     ]
    }
   ],
   "source": [
    "import pandas as pd\n",
    "from sklearn.model_selection import train_test_split\n",
    "from sklearn.preprocessing import StandardScaler\n",
    "from sklearn.svm import SVC  # Import SVM Classifier\n",
    "from sklearn.metrics import accuracy_score, classification_report, confusion_matrix\n",
    "\n",
    "# Load the preprocessed data\n",
    "ocean = pd.read_csv('cleaned_ocean.csv')\n",
    "\n",
    "# Latitude, Longitude, and all of the trash types are included to determine the cleanup type\n",
    "X = ocean[['Latitude', 'Longitude', 'Miles', 'Pounds', 'Trash level']]\n",
    "y = ocean['Cleanup Type']\n",
    "\n",
    "# Split the data into training and testing sets\n",
    "X_train, X_test, y_train, y_test = train_test_split(X, y, test_size=0.2, random_state=42)\n",
    "\n",
    "# Standardize the features\n",
    "scaler = StandardScaler()\n",
    "X_train_scaled = scaler.fit_transform(X_train)\n",
    "X_test_scaled = scaler.transform(X_test)\n",
    "\n",
    "# Initialize the SVM Classifier\n",
    "svm_model = SVC(kernel='linear')  # You can choose different kernels such as 'rbf', 'poly', etc.\n",
    "\n",
    "# Train the model\n",
    "svm_model.fit(X_train_scaled, y_train)\n",
    "\n",
    "# Make predictions on the test set\n",
    "y_pred = svm_model.predict(X_test_scaled)\n",
    "\n",
    "# Evaluate the model\n",
    "accuracy = accuracy_score(y_test, y_pred)\n",
    "precision = precision_score(y_test, y_pred, average='weighted')\n",
    "recall = recall_score(y_test, y_pred, average='weighted')\n",
    "f1 = f1_score(y_test, y_pred, average='weighted')\n",
    "\n",
    "# Print the evaluation metrics\n",
    "print(f\"Accuracy: {accuracy*100:.2f}%\")\n",
    "training_accuracy = accuracy_score(y_train, svm_model.predict(X_train_scaled))\n",
    "validation_accuracy = accuracy_score(y_test, y_pred)\n",
    "print(f\"Training Accuracy: {training_accuracy*100:.2f}%\")\n",
    "print(f\"Test Accuracy: {validation_accuracy*100:.2f}%\")\n",
    "print(f\"Precision : {precision*100:.2f}%\")\n",
    "print(f\"Recall : {recall*100:.2f}%\")\n",
    "print(f\"F1 Score : {f1*100:.2f}%\")\n"
   ]
  },
  {
   "cell_type": "code",
   "execution_count": 10,
   "id": "5d5993eb",
   "metadata": {},
   "outputs": [
    {
     "name": "stdout",
     "output_type": "stream",
     "text": [
      "Predicted cleanup type (numerical label): Land (beach, shoreline and inland)\n"
     ]
    }
   ],
   "source": [
    "from sklearn.preprocessing import StandardScaler\n",
    "from sklearn.svm import SVC\n",
    "from sklearn.model_selection import train_test_split\n",
    "import pandas as pd\n",
    "\n",
    "# Load the preprocessed data\n",
    "ocean = pd.read_csv('cleaned_ocean.csv')\n",
    "\n",
    "# Extract features and target variable\n",
    "X = ocean[['Latitude', 'Longitude', 'Miles', 'Pounds', 'Trash level']]\n",
    "y = ocean['Cleanup Type']\n",
    "\n",
    "# Split the data into training and testing sets\n",
    "X_train, X_test, y_train, y_test = train_test_split(X, y, test_size=0.2, random_state=42)\n",
    "\n",
    "# Standardize the features\n",
    "scaler = StandardScaler()\n",
    "X_train_scaled = scaler.fit_transform(X_train)\n",
    "X_test_scaled = scaler.transform(X_test)\n",
    "\n",
    "# Initialize the SVM model\n",
    "svm_model = SVC(kernel='rbf', random_state=42)  # Example with RBF kernel\n",
    "\n",
    "# Train the model\n",
    "svm_model.fit(X_train_scaled, y_train)\n",
    "\n",
    "# Prediction function\n",
    "def predict_cleanup_type_svm(features, model):\n",
    "    # Ensure that the input features match the training data's features\n",
    "    if len(features) != 5:\n",
    "        raise ValueError(f\"Expected 5 features, but received {len(features)}\")\n",
    "    \n",
    "    # Convert feature values to numeric\n",
    "    features = [float(x) if isinstance(x, (int, float)) else x for x in features]\n",
    "    \n",
    "    # Create a DataFrame with the input features\n",
    "    input_features = pd.DataFrame([features], columns=X.columns)\n",
    "    \n",
    "    # Standardize the input features\n",
    "    input_features_scaled = scaler.transform(input_features)\n",
    "    \n",
    "    # Use the model to predict the cleanup type\n",
    "    prediction = model.predict(input_features_scaled)\n",
    "    \n",
    "    return prediction[0]\n",
    "\n",
    "# Example features\n",
    "example_features_svm = [47.639629, -122.333268, 1.0, 26.0, 2.0]\n",
    "\n",
    "# Predict the cleanup type using SVM\n",
    "predicted_cleanup_type_svm = predict_cleanup_type_svm(example_features_svm, svm_model)\n",
    "\n",
    "# Print out the results\n",
    "print(f\"Predicted cleanup type (numerical label): {predicted_cleanup_type_svm}\")"
<<<<<<< HEAD
   ]
  },
  {
   "cell_type": "markdown",
   "id": "a08a2b28",
   "metadata": {},
   "source": [
    "# Feature importance "
   ]
  },
  {
   "cell_type": "code",
   "execution_count": 12,
   "id": "e3ea918d",
   "metadata": {},
   "outputs": [
    {
     "data": {
      "image/png": "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",
      "text/plain": [
       "<Figure size 1500x1000 with 1 Axes>"
      ]
     },
     "metadata": {},
     "output_type": "display_data"
    }
   ],
   "source": [
    "import seaborn as sns\n",
    "import matplotlib.pyplot as plt  # Import matplotlib.pyplot\n",
    "\n",
    "# Sampling a subset of the data to ensure smooth plotting\n",
    "sampled_gdf = ocean.sample(n=min(500, len(ocean)), random_state=42)\n",
    "\n",
    "\n",
    "\n",
    "# Plotting Cleanup Locations by Trash Level\n",
    "plt.figure(figsize=(15, 10))\n",
    "sns.scatterplot(x=sampled_gdf['Longitude'], y=sampled_gdf['Latitude'], hue=sampled_gdf['Trash level'], palette='viridis')\n",
    "plt.title('Cleanup Locations by Trash Level')\n",
    "plt.xlabel('Longitude')\n",
    "plt.ylabel('Latitude')\n",
    "plt.legend(title='Trash Level')\n",
    "plt.grid(True)\n",
    "plt.show()\n"
   ]
=======
   ]
>>>>>>> c719119 (changes)
  }
 ],
 "metadata": {
  "kernelspec": {
   "display_name": "Python 3 (ipykernel)",
   "language": "python",
   "name": "python3"
  },
  "language_info": {
   "codemirror_mode": {
    "name": "ipython",
    "version": 3
   },
   "file_extension": ".py",
   "mimetype": "text/x-python",
   "name": "python",
   "nbconvert_exporter": "python",
   "pygments_lexer": "ipython3",
   "version": "3.9.13"
  }
 },
 "nbformat": 4,
 "nbformat_minor": 5
}
